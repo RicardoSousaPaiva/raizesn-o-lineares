{
  "nbformat": 4,
  "nbformat_minor": 0,
  "metadata": {
    "colab": {
      "name": "RicardoHand-On2-CAP418-ParteA2021.ipynb",
      "provenance": [],
      "collapsed_sections": [],
      "include_colab_link": true
    },
    "kernelspec": {
      "name": "python3",
      "display_name": "Python 3"
    }
  },
  "cells": [
    {
      "cell_type": "markdown",
      "metadata": {
        "id": "view-in-github",
        "colab_type": "text"
      },
      "source": [
        "<a href=\"https://colab.research.google.com/github/RicardoSousaPaiva/raizesnaolineares/blob/main/RicardoHand_On2_CAP418_ParteA2021.ipynb\" target=\"_parent\"><img src=\"https://colab.research.google.com/assets/colab-badge.svg\" alt=\"Open In Colab\"/></a>"
      ]
    },
    {
      "cell_type": "markdown",
      "metadata": {
        "id": "JxsUgs2qKcUX"
      },
      "source": [
        "## CAP418 - HANDS-ON #02 \n"
      ]
    },
    {
      "cell_type": "markdown",
      "metadata": {
        "id": "djmJPAxhJ8d7"
      },
      "source": [
        "Aluno: Ricardo Sousa de Paiva"
      ]
    },
    {
      "cell_type": "markdown",
      "metadata": {
        "id": "yFoI3vGLforw"
      },
      "source": [
        "**Métodos para Encontrar Raízes de Funções Escalares**"
      ]
    },
    {
      "cell_type": "markdown",
      "metadata": {
        "id": "xkWLLi3iMrTT"
      },
      "source": [
        "================================================================================\n",
        "\n",
        "\n",
        "CONSIDERE AS SEGUINTES FUNÇÕES ABAIXO:  \n",
        "\n",
        "$\n",
        "1) f(x)=x-cos(x)\n",
        "$\n",
        "\n",
        "$\n",
        "2) f(x)=x^{3}-9x+5\n",
        "$\n",
        "\n",
        "$\n",
        "3) f(x)=x(3-x^2)/2 \n",
        "$\n",
        "\n",
        "$\n",
        "4) f(x)=(x^4-10x^2)exp(-x)+1 \n",
        "$\n",
        "\n",
        "==========\n",
        "\n",
        "\n",
        "A) PARA CADA UMA DELAS CONSIDERE O INTERVALO [-1,2] PARA BUSCAR O VALOR DE UMA DETERMINADA RAIZ COM PRECISÃO DE  **10ˆ(-6)** e **50** ITERAÇÕES.\n",
        "\n",
        "B) APLIQUE EM CADA UMA OS MÉTODOS DE **(I)** *NEWTON-RAPHSON*, **(II)** *SECANTE* E **(III)** *BISSECÇÃO* \n",
        "\n",
        "C) PLOTE O VALOR DA RAIZ (X_k) COMO FUNÇÃO DO NÚMERO DE ITERAÇÕES. \n",
        "PARA CADA FUNÇÃO PLOTE AS CURVAS DE CADA MÉTODO COM DIFERENTES CORES: I(red), II(green) e III(blue).  \n",
        "AVALIE QUAL DOS TRÊS MÉTODOS CONVERGE MAIS RAPIDAMENTE EM CADA EXPERIMENTO.\n",
        "\n",
        "PS: São fornecidos módulos para cada um dos métodos. Entretanto, você pode uniformizar os estilos de input e output para facilitar o hands-on. Isso será levado em conta na avaliação do Hands-On.\n",
        "\n",
        "================================================================================\n"
      ]
    },
    {
      "cell_type": "markdown",
      "metadata": {
        "id": "TdqGRMI-cXUu"
      },
      "source": [
        "\n",
        "### Implementação das Funções de cada **método numérico**:"
      ]
    },
    {
      "cell_type": "code",
      "metadata": {
        "id": "8SFvZGAMSDmh"
      },
      "source": [
        "import matplotlib.pyplot as plt\n",
        "#from matplotlib import pyplot\n",
        "import numpy as np\n",
        "%matplotlib inline\n",
        "import seaborn as sns\n",
        "import math \n",
        "import scipy\n",
        "\n",
        "#Método Newton-Raphson\n",
        "epsilon: 1.0e-6\n",
        "max_iter:50\n",
        "def newton(f,Df,x0,epsilon,max_iter):\n",
        "  count_RootN=[]\n",
        "  count_IntN=[]\n",
        "  count_IntN.append(1)\n",
        "  xn = x0\n",
        "  for n in range(0,max_iter):\n",
        "        fxn = f(xn)\n",
        "        count_RootN.append(abs(f(xn)))\n",
        "        IntN= n\n",
        "        count_IntN.append(IntN)\n",
        "        if abs(fxn) < epsilon:\n",
        "          print('Solução encontrada depois de',n,'interações.')\n",
        "          return xn, count_RootN,count_IntN\n",
        "        Dfxn = Df(xn)\n",
        "        if Dfxn == 0:\n",
        "            print('Derivada zero. Nenhuma raiz encontrada.')\n",
        "            return None\n",
        "        xn = xn - fxn/Dfxn\n",
        "  print('Excedeu o máximo de interações. Nenhuma raiz encontrada.')\n",
        "  return None"
      ],
      "execution_count": null,
      "outputs": []
    },
    {
      "cell_type": "code",
      "metadata": {
        "id": "eNl8RpV0Sbkw"
      },
      "source": [
        "#Método Secante\n",
        "def secante(f,a,b,max_iter):\n",
        "  count_RootS=[]\n",
        "  count_IntS=[]\n",
        "  count_IntS.append(1)\n",
        "  if f(a)*f(b) >= 0:\n",
        "        print('Nada encontrado!')\n",
        "        return None\n",
        "  a_n = a\n",
        "  b_n = b\n",
        "  for n in range(1,max_iter+1):\n",
        "        m_n = a_n - f(a_n)*(b_n - a_n)/(f(b_n) - f(a_n))\n",
        "        f_m_n = f(m_n)\n",
        "        if f(a_n)*f_m_n < 0:\n",
        "            a_n = a_n\n",
        "            b_n = m_n\n",
        "        elif f(b_n)*f_m_n < 0:\n",
        "            a_n = m_n\n",
        "            b_n = b_n\n",
        "        elif f_m_n == 0:\n",
        "            print('Solução encontrada depois de',n,'interações')\n",
        "            count_RootS.append(abs(f(m_n)))\n",
        "            IntS= n\n",
        "            count_IntS.append(IntS)\n",
        "            return m_n, count_RootS, count_IntS\n",
        "        else:\n",
        "            print('Nada encontrado!')\n",
        "            return None\n",
        "  return a_n - f(a_n)*(b_n - a_n)/(f(b_n) - f(a_n))"
      ],
      "execution_count": null,
      "outputs": []
    },
    {
      "cell_type": "code",
      "metadata": {
        "id": "nPI8YAKg9rCs"
      },
      "source": [
        "#Método Bissecção\n",
        "def bisseccao(f,a,b,max_iter):\n",
        "  count_RootB=[]\n",
        "  count_IntB=[]\n",
        "  count_IntB.append(1)\n",
        "  if f(a)*f(b) >= 0:\n",
        "        print('Nada encontrado!')\n",
        "        return None\n",
        "  a_n = a\n",
        "  b_n = b\n",
        "  for n in range(1,max_iter+1):\n",
        "    m_n = (a_n + b_n)/2\n",
        "    f_m_n = f(m_n)\n",
        "    if f(a_n)*f_m_n < 0:\n",
        "      a_n = a_n\n",
        "      b_n = m_n\n",
        "    elif f(b_n)*f_m_n < 0:\n",
        "      a_n = m_n\n",
        "      b_n = b_n\n",
        "    elif f_m_n == 0:\n",
        "      print('Solução encontrada depois de', n, 'interações!')\n",
        "      return m_n,count_RootB,count_IntB\n",
        "        \n",
        "    else:\n",
        "        print('Nada encontrado!')\n",
        "        return None\n",
        "  count_RootB.append(abs(f(m_n)))\n",
        "  IntB= n\n",
        "  count_IntB.append(IntB)\n",
        "  return m_n,count_RootB,count_IntB"
      ],
      "execution_count": null,
      "outputs": []
    },
    {
      "cell_type": "markdown",
      "metadata": {
        "id": "R4ZHyFE0cvah"
      },
      "source": [
        "### Agora, aplicação dos métodos em cada função proposta pelo enunciado.\n",
        "Chamada das funções:"
      ]
    },
    {
      "cell_type": "markdown",
      "metadata": {
        "id": "rgdlhq59hPLl"
      },
      "source": [
        "\n",
        "<h3 align=\"center\"> 1)$ f(x)=x−cos(x) $  </h1>"
      ]
    },
    {
      "cell_type": "markdown",
      "metadata": {
        "id": "3EkR52ZAgmV3"
      },
      "source": [
        "*   Pelo método **Newton-Raphson**:\n"
      ]
    },
    {
      "cell_type": "code",
      "metadata": {
        "colab": {
          "base_uri": "https://localhost:8080/"
        },
        "id": "a7G0_UmudLKB",
        "outputId": "8c74205d-6470-4303-ef0d-53cc7f21126c"
      },
      "source": [
        "f= lambda x: x - math.cos(x)\n",
        "df= lambda x: math.sin(x) + 1 \n",
        "newton(f,df,1,1.0e-6,50)"
      ],
      "execution_count": null,
      "outputs": [
        {
          "output_type": "stream",
          "text": [
            "Solução encontrada depois de 3 interações.\n"
          ],
          "name": "stdout"
        },
        {
          "output_type": "execute_result",
          "data": {
            "text/plain": [
              "(0.739085133385284,\n",
              " [0.45969769413186023,\n",
              "  0.018923073822117442,\n",
              "  4.6455898990771516e-05,\n",
              "  2.847205804457076e-10],\n",
              " [1, 0, 1, 2, 3])"
            ]
          },
          "metadata": {
            "tags": []
          },
          "execution_count": 4
        }
      ]
    },
    {
      "cell_type": "markdown",
      "metadata": {
        "id": "nE8nx_4jgyww"
      },
      "source": [
        "*   Pelo método **Secante:**"
      ]
    },
    {
      "cell_type": "code",
      "metadata": {
        "colab": {
          "base_uri": "https://localhost:8080/"
        },
        "id": "tE7HEQsDfNYy",
        "outputId": "59aef545-83e6-4fee-994c-ee7aa93ead4c"
      },
      "source": [
        "f = lambda x: x - math.cos(x)\n",
        "secante(f,-1,2,50)"
      ],
      "execution_count": null,
      "outputs": [
        {
          "output_type": "stream",
          "text": [
            "Solução encontrada depois de 20 interações\n"
          ],
          "name": "stdout"
        },
        {
          "output_type": "execute_result",
          "data": {
            "text/plain": [
              "(0.7390851332151607, [0.0], [1, 20])"
            ]
          },
          "metadata": {
            "tags": []
          },
          "execution_count": 5
        }
      ]
    },
    {
      "cell_type": "markdown",
      "metadata": {
        "id": "ECJ8QDuhg_3D"
      },
      "source": [
        "*   Pelo método **Bissecção**:"
      ]
    },
    {
      "cell_type": "code",
      "metadata": {
        "colab": {
          "base_uri": "https://localhost:8080/"
        },
        "id": "ZlM_lAvnfRaU",
        "outputId": "d1b07334-8bff-4002-fe94-c0a6042d3d4d"
      },
      "source": [
        "f = lambda x: x - math.cos(x)\n",
        "bisseccao(f,-1,2,50)"
      ],
      "execution_count": null,
      "outputs": [
        {
          "output_type": "execute_result",
          "data": {
            "text/plain": [
              "(0.7390851332151618, [1.887379141862766e-15], [1, 50])"
            ]
          },
          "metadata": {
            "tags": []
          },
          "execution_count": 13
        }
      ]
    },
    {
      "cell_type": "code",
      "metadata": {
        "colab": {
          "base_uri": "https://localhost:8080/",
          "height": 178
        },
        "id": "758Jtz5UWQya",
        "outputId": "6df0ba3a-2fce-432b-f860-beefe2538912"
      },
      "source": [
        "plt.plot(count_IntN,count_RootN,'r',count_IntS,count_RootS,'g',count_IntB,count_RootB,'b')\n",
        "plt.show()"
      ],
      "execution_count": null,
      "outputs": [
        {
          "output_type": "error",
          "ename": "NameError",
          "evalue": "ignored",
          "traceback": [
            "\u001b[0;31m---------------------------------------------------------------------------\u001b[0m",
            "\u001b[0;31mNameError\u001b[0m                                 Traceback (most recent call last)",
            "\u001b[0;32m<ipython-input-99-cdca6f9cd264>\u001b[0m in \u001b[0;36m<module>\u001b[0;34m()\u001b[0m\n\u001b[0;32m----> 1\u001b[0;31m \u001b[0mplt\u001b[0m\u001b[0;34m.\u001b[0m\u001b[0mplot\u001b[0m\u001b[0;34m(\u001b[0m\u001b[0mcount_IntN\u001b[0m\u001b[0;34m,\u001b[0m\u001b[0mcount_RootN\u001b[0m\u001b[0;34m,\u001b[0m\u001b[0;34m'r'\u001b[0m\u001b[0;34m,\u001b[0m\u001b[0mcount_IntS\u001b[0m\u001b[0;34m,\u001b[0m\u001b[0mcount_RootS\u001b[0m\u001b[0;34m,\u001b[0m\u001b[0;34m'g'\u001b[0m\u001b[0;34m,\u001b[0m\u001b[0mcount_IntB\u001b[0m\u001b[0;34m,\u001b[0m\u001b[0mcount_RootB\u001b[0m\u001b[0;34m,\u001b[0m\u001b[0;34m'b'\u001b[0m\u001b[0;34m)\u001b[0m\u001b[0;34m\u001b[0m\u001b[0;34m\u001b[0m\u001b[0m\n\u001b[0m\u001b[1;32m      2\u001b[0m \u001b[0mplt\u001b[0m\u001b[0;34m.\u001b[0m\u001b[0mshow\u001b[0m\u001b[0;34m(\u001b[0m\u001b[0;34m)\u001b[0m\u001b[0;34m\u001b[0m\u001b[0;34m\u001b[0m\u001b[0m\n",
            "\u001b[0;31mNameError\u001b[0m: name 'count_IntN' is not defined"
          ]
        }
      ]
    },
    {
      "cell_type": "markdown",
      "metadata": {
        "id": "35ilGutoffiA"
      },
      "source": [
        "\n",
        "<h3 align=\"center\"> $ 2) f(x)=x3−9x+5 $  </h1>"
      ]
    },
    {
      "cell_type": "markdown",
      "metadata": {
        "id": "gyyjCclQiLK5"
      },
      "source": [
        "*   Pelo método ***Newton-Raphson***:"
      ]
    },
    {
      "cell_type": "code",
      "metadata": {
        "colab": {
          "base_uri": "https://localhost:8080/"
        },
        "id": "qkuMdnx6iPA0",
        "outputId": "b7dfdbf1-6ab9-42e4-eaa6-48ede535ce2e"
      },
      "source": [
        "f= lambda x: x**3 - 9*x + 5\n",
        "df= lambda x: 3*x**2 - 9 \n",
        "newton(f,df,1,1.0e-6,50)"
      ],
      "execution_count": null,
      "outputs": [
        {
          "output_type": "stream",
          "text": [
            "Solução encontrada depois de 4 interações.\n"
          ],
          "name": "stdout"
        },
        {
          "output_type": "execute_result",
          "data": {
            "text/plain": [
              "(0.5768875239163237,\n",
              " [3,\n",
              "  0.625,\n",
              "  0.009043604084925327,\n",
              "  2.2057179300816188e-06,\n",
              "  1.3145040611561853e-13],\n",
              " [1, 0, 1, 2, 3, 4])"
            ]
          },
          "metadata": {
            "tags": []
          },
          "execution_count": 49
        }
      ]
    },
    {
      "cell_type": "markdown",
      "metadata": {
        "id": "K31x37JZijYY"
      },
      "source": [
        "*   Pelo método **Secante**:"
      ]
    },
    {
      "cell_type": "code",
      "metadata": {
        "colab": {
          "base_uri": "https://localhost:8080/"
        },
        "id": "Q-MEM6Rni3EG",
        "outputId": "71b9eec5-9871-4f6e-9027-0379d85bc727"
      },
      "source": [
        "f = lambda x: x**3 - 9*x + 5\n",
        "secante(f,-1,2,50)"
      ],
      "execution_count": null,
      "outputs": [
        {
          "output_type": "execute_result",
          "data": {
            "text/plain": [
              "0.5768875239163402"
            ]
          },
          "metadata": {
            "tags": []
          },
          "execution_count": 53
        }
      ]
    },
    {
      "cell_type": "markdown",
      "metadata": {
        "id": "IS4KZs__jdMh"
      },
      "source": [
        "*   Pelo método **Bissecção**:"
      ]
    },
    {
      "cell_type": "code",
      "metadata": {
        "colab": {
          "base_uri": "https://localhost:8080/"
        },
        "id": "T-RHaktUjjQe",
        "outputId": "41a1f463-1400-4a06-cc1d-5513e775ec33"
      },
      "source": [
        "f = lambda x: x**3 - 9*x + 5\n",
        "bisseccao(f,-1,2,50)"
      ],
      "execution_count": null,
      "outputs": [
        {
          "output_type": "execute_result",
          "data": {
            "text/plain": [
              "(0.576887523916338, [1.7763568394002505e-14], [1, 50])"
            ]
          },
          "metadata": {
            "tags": []
          },
          "execution_count": 52
        }
      ]
    },
    {
      "cell_type": "markdown",
      "metadata": {
        "id": "NX0Rrvngjway"
      },
      "source": [
        "<h3 align=\"center\"> $ 3) f(x)=x(3−x2)/2 $  </h1>"
      ]
    },
    {
      "cell_type": "markdown",
      "metadata": {
        "id": "s7mJddLxj9_w"
      },
      "source": [
        "*   Pelo método **Newton-Raphson**:"
      ]
    },
    {
      "cell_type": "code",
      "metadata": {
        "colab": {
          "base_uri": "https://localhost:8080/"
        },
        "id": "AqqY2RzHkKbe",
        "outputId": "70270e87-ade3-4d7a-a03e-4e5654e0c5c5"
      },
      "source": [
        "f= lambda x: x*(3-x**2)/2\n",
        "df= lambda x: 3*(1 - x**2)/2\n",
        "newton(f,df,1,1.0e-6,50)"
      ],
      "execution_count": null,
      "outputs": [
        {
          "output_type": "stream",
          "text": [
            "Derivada zero. Nenhuma raiz encontrada.\n"
          ],
          "name": "stdout"
        }
      ]
    },
    {
      "cell_type": "markdown",
      "metadata": {
        "id": "FBzpLHexkjZh"
      },
      "source": [
        "*   Pelo método **Secante**:"
      ]
    },
    {
      "cell_type": "code",
      "metadata": {
        "colab": {
          "base_uri": "https://localhost:8080/"
        },
        "id": "ISWAMqHmkp8D",
        "outputId": "87a80f57-ae61-4686-a9d7-b64e17bfb178"
      },
      "source": [
        "f = lambda x: x*(3-x**2)/2\n",
        "secante(f,-1,2,50)"
      ],
      "execution_count": null,
      "outputs": [
        {
          "output_type": "stream",
          "text": [
            "Nada encontrado!\n"
          ],
          "name": "stdout"
        }
      ]
    },
    {
      "cell_type": "markdown",
      "metadata": {
        "id": "1Rl3b6GMk4TE"
      },
      "source": [
        "*   Pelo método **Bissecção**:"
      ]
    },
    {
      "cell_type": "code",
      "metadata": {
        "colab": {
          "base_uri": "https://localhost:8080/"
        },
        "id": "Qd3lboETk-M7",
        "outputId": "0e40cfb0-ef48-41d3-bd62-d3c7f7e42abf"
      },
      "source": [
        "f = lambda x: x*(3-x**2)/2\n",
        "bisseccao(f,-1,2,50)"
      ],
      "execution_count": null,
      "outputs": [
        {
          "output_type": "stream",
          "text": [
            "Nada encontrado!\n"
          ],
          "name": "stdout"
        }
      ]
    },
    {
      "cell_type": "markdown",
      "metadata": {
        "id": "AEMjdIzJlOgn"
      },
      "source": [
        "\n",
        "<h3 align=\"center\"> $ 4) f(x)=(x4−10x2)exp(−x)+1 $  </h1>"
      ]
    },
    {
      "cell_type": "markdown",
      "metadata": {
        "id": "NlYu5S46ln6j"
      },
      "source": [
        "*   Pelo método **Newton-Raphson**:"
      ]
    },
    {
      "cell_type": "code",
      "metadata": {
        "colab": {
          "base_uri": "https://localhost:8080/"
        },
        "id": "J3Tl2IjAlvG7",
        "outputId": "900365c8-412c-4077-9f74-859e475bf7f1"
      },
      "source": [
        "f= lambda x: (x**4 - 10*x**2)*math.exp(-x) + 1\n",
        "df= lambda x: -x*math.exp(-x)*(x**3 - 4*x**2 - 10*x - 20)\n",
        "newton(f,df,1,1.0e-6,50)"
      ],
      "execution_count": null,
      "outputs": [
        {
          "output_type": "stream",
          "text": [
            "Solução encontrada depois de 47 interações.\n"
          ],
          "name": "stdout"
        },
        {
          "output_type": "execute_result",
          "data": {
            "text/plain": [
              "(2.8100543219084777,\n",
              " [2.310914970542981,\n",
              "  2.6985398637236715,\n",
              "  2.8853674684787354,\n",
              "  2.8368293368690467,\n",
              "  2.5886661590438087,\n",
              "  2.2183301107136835,\n",
              "  1.8066139700478772,\n",
              "  1.4134918486381198,\n",
              "  1.0722498621810632,\n",
              "  0.7945446371383238,\n",
              "  0.5785372261330084,\n",
              "  0.4158443070256266,\n",
              "  0.2960996869768868,\n",
              "  0.209407859814712,\n",
              "  0.14737948167382076,\n",
              "  0.10336708677417783,\n",
              "  0.07232180318209891,\n",
              "  0.050514036857772115,\n",
              "  0.035239786217858615,\n",
              "  0.02456346291404854,\n",
              "  0.01711161998196542,\n",
              "  0.011915572983927536,\n",
              "  0.00829497077668706,\n",
              "  0.005773358136783813,\n",
              "  0.00401774205600236,\n",
              "  0.0027957206581528116,\n",
              "  0.0019452543180484838,\n",
              "  0.0013534391701708337,\n",
              "  0.0009416445508045879,\n",
              "  0.0006551269192849318,\n",
              "  0.00045578189321671125,\n",
              "  0.0003170910199470356,\n",
              "  0.00022060101913545793,\n",
              "  0.00015347187103476045,\n",
              "  0.00010676980812474035,\n",
              "  7.427916694213721e-05,\n",
              "  5.1675514896931674e-05,\n",
              "  3.5950262226913665e-05,\n",
              "  2.5010302116434957e-05,\n",
              "  1.739945129464182e-05,\n",
              "  1.2104643021926265e-05,\n",
              "  8.421089704668816e-06,\n",
              "  5.858474086739562e-06,\n",
              "  4.075685571480747e-06,\n",
              "  2.835416015756209e-06,\n",
              "  1.9725720472596464e-06,\n",
              "  1.3722996126119824e-06,\n",
              "  9.54695756005819e-07],\n",
              " [1,\n",
              "  0,\n",
              "  1,\n",
              "  2,\n",
              "  3,\n",
              "  4,\n",
              "  5,\n",
              "  6,\n",
              "  7,\n",
              "  8,\n",
              "  9,\n",
              "  10,\n",
              "  11,\n",
              "  12,\n",
              "  13,\n",
              "  14,\n",
              "  15,\n",
              "  16,\n",
              "  17,\n",
              "  18,\n",
              "  19,\n",
              "  20,\n",
              "  21,\n",
              "  22,\n",
              "  23,\n",
              "  24,\n",
              "  25,\n",
              "  26,\n",
              "  27,\n",
              "  28,\n",
              "  29,\n",
              "  30,\n",
              "  31,\n",
              "  32,\n",
              "  33,\n",
              "  34,\n",
              "  35,\n",
              "  36,\n",
              "  37,\n",
              "  38,\n",
              "  39,\n",
              "  40,\n",
              "  41,\n",
              "  42,\n",
              "  43,\n",
              "  44,\n",
              "  45,\n",
              "  46,\n",
              "  47])"
            ]
          },
          "metadata": {
            "tags": []
          },
          "execution_count": 57
        }
      ]
    },
    {
      "cell_type": "markdown",
      "metadata": {
        "id": "Vyl5zS77mKVR"
      },
      "source": [
        "*   Pelo método **Secante**:"
      ]
    },
    {
      "cell_type": "code",
      "metadata": {
        "colab": {
          "base_uri": "https://localhost:8080/"
        },
        "id": "MHx35irhmfMU",
        "outputId": "a5618974-2704-4e6b-f0fa-7ce94439f9e0"
      },
      "source": [
        "f = lambda x: (x**4 - 10*x**2)*math.exp(-x) + 1\n",
        "secante(f,-1,2,50)"
      ],
      "execution_count": null,
      "outputs": [
        {
          "output_type": "stream",
          "text": [
            "Nada encontrado!\n"
          ],
          "name": "stdout"
        }
      ]
    },
    {
      "cell_type": "markdown",
      "metadata": {
        "id": "vCUUvK7YmuqD"
      },
      "source": [
        "*   Pelo método **Bissecção**:"
      ]
    },
    {
      "cell_type": "code",
      "metadata": {
        "colab": {
          "base_uri": "https://localhost:8080/"
        },
        "id": "9ETsZsq7mz82",
        "outputId": "5e612e5a-0f2a-4fdd-ecfe-f04e634259d4"
      },
      "source": [
        "f = lambda x: (x**4 - 10*x**2)*math.exp(-x) + 1\n",
        "bisseccao(f,-1,2,50)"
      ],
      "execution_count": null,
      "outputs": [
        {
          "output_type": "stream",
          "text": [
            "Nada encontrado!\n"
          ],
          "name": "stdout"
        }
      ]
    },
    {
      "cell_type": "markdown",
      "metadata": {
        "id": "dK0aRqWCoKH-"
      },
      "source": [
        "<h3 align=\"center\"> $ 5) 4πx-400x^-2 $  </h1>"
      ]
    },
    {
      "cell_type": "markdown",
      "metadata": {
        "id": "ELL0Q5YLBbFF"
      },
      "source": [
        "*   Pelo método **Newton-Raphson**:\n"
      ]
    },
    {
      "cell_type": "code",
      "metadata": {
        "colab": {
          "base_uri": "https://localhost:8080/"
        },
        "id": "5YNE_TzjBewt",
        "outputId": "2a083c75-5495-431a-992d-d29bd2932c9c"
      },
      "source": [
        "f= lambda x: 4 * 3.14 * x ** -2 \n",
        "df= lambda x: -x*math.exp(-x)*(x**3 - 4*x**2 - 10*x - 20)\n",
        "newton(f,df,1,1.0e-6,50)"
      ],
      "execution_count": null,
      "outputs": [
        {
          "output_type": "stream",
          "text": [
            "Solução encontrada depois de 2 interações.\n"
          ],
          "name": "stdout"
        },
        {
          "output_type": "execute_result",
          "data": {
            "text/plain": [
              "(14906.749547522448,\n",
              " [12.56, 10494.809517865522, 5.6522808091172775e-08],\n",
              " [1, 0, 1, 2])"
            ]
          },
          "metadata": {
            "tags": []
          },
          "execution_count": 62
        }
      ]
    },
    {
      "cell_type": "markdown",
      "metadata": {
        "id": "NAO21kHXCXUS"
      },
      "source": [
        "*   Pelo método **Secante**:"
      ]
    },
    {
      "cell_type": "code",
      "metadata": {
        "colab": {
          "base_uri": "https://localhost:8080/"
        },
        "id": "ckQ59TabCcYm",
        "outputId": "0c402449-77e2-478b-b2a4-568abe387237"
      },
      "source": [
        "f = lambda x: 4 * 3.14 * x ** -2\n",
        "secante(f,-1,2,50)"
      ],
      "execution_count": null,
      "outputs": [
        {
          "output_type": "stream",
          "text": [
            "Nada encontrado!\n"
          ],
          "name": "stdout"
        }
      ]
    },
    {
      "cell_type": "markdown",
      "metadata": {
        "id": "HmnzXlvtDGsw"
      },
      "source": [
        "*   Pelo método **Bissecção**:"
      ]
    },
    {
      "cell_type": "code",
      "metadata": {
        "colab": {
          "base_uri": "https://localhost:8080/"
        },
        "id": "XMMdEefGDJYq",
        "outputId": "5e7fca4d-130a-428e-c865-6a56a161b3f2"
      },
      "source": [
        "f = lambda x: 4 * 3.14 * x ** -2\n",
        "bisseccao(f,-1,2,50)"
      ],
      "execution_count": null,
      "outputs": [
        {
          "output_type": "stream",
          "text": [
            "Nada encontrado!\n"
          ],
          "name": "stdout"
        }
      ]
    }
  ]
}